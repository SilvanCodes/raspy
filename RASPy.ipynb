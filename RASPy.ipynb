{
  "nbformat": 4,
  "nbformat_minor": 0,
  "metadata": {
    "colab": {
      "provenance": [],
      "authorship_tag": "ABX9TyO/dN3NOx+8XoGJLpzV3063",
      "include_colab_link": true
    },
    "kernelspec": {
      "name": "python3",
      "display_name": "Python 3"
    },
    "language_info": {
      "name": "python"
    }
  },
  "cells": [
    {
      "cell_type": "markdown",
      "metadata": {
        "id": "view-in-github",
        "colab_type": "text"
      },
      "source": [
        "<a href=\"https://colab.research.google.com/github/srush/raspy/blob/main/RASPy.ipynb\" target=\"_parent\"><img src=\"https://colab.research.google.com/assets/colab-badge.svg\" alt=\"Open In Colab\"/></a>"
      ]
    },
    {
      "cell_type": "code",
      "execution_count": 4,
      "metadata": {
        "colab": {
          "base_uri": "https://localhost:8080/"
        },
        "id": "xQ4NZXNDGyL1",
        "outputId": "05ed3974-9972-4b50-b438-c5233bad633c"
      },
      "outputs": [
        {
          "output_type": "stream",
          "name": "stdout",
          "text": [
            "Cloning into 'raspy-code'...\n",
            "remote: Enumerating objects: 38, done.\u001b[K\n",
            "remote: Counting objects: 100% (38/38), done.\u001b[K\n",
            "remote: Compressing objects: 100% (25/25), done.\u001b[K\n",
            "remote: Total 38 (delta 13), reused 32 (delta 10), pack-reused 0\u001b[K\n",
            "Unpacking objects: 100% (38/38), done.\n"
          ]
        }
      ],
      "source": [
        "!git clone https://github.com/srush/raspy.git raspy-code\n",
        "import sys\n",
        "sys.path.append(\"raspy-code\")"
      ]
    },
    {
      "cell_type": "code",
      "source": [
        "from raspy import *\n",
        "import matplotlib.pyplot as plt\n",
        "import numpy as np\n",
        "def show(self):\n",
        "    plt.imshow(self.tomat())\n",
        "    return \"\"\n",
        "Selector._repr_html_ = show"
      ],
      "metadata": {
        "id": "pYm6XmaINIVR"
      },
      "execution_count": 19,
      "outputs": []
    },
    {
      "cell_type": "code",
      "source": [
        "code = identity + [1, 2, 3]"
      ],
      "metadata": {
        "id": "C4HLBJgzLdGG"
      },
      "execution_count": 6,
      "outputs": []
    },
    {
      "cell_type": "code",
      "source": [
        "code([2,3,4])"
      ],
      "metadata": {
        "colab": {
          "base_uri": "https://localhost:8080/"
        },
        "id": "7mUGjrjwLhSO",
        "outputId": "bc483804-bece-4755-8ddd-9fecc1edf80e"
      },
      "execution_count": 22,
      "outputs": [
        {
          "output_type": "execute_result",
          "data": {
            "text/plain": [
              "[3, 5, 7]"
            ]
          },
          "metadata": {},
          "execution_count": 22
        }
      ]
    },
    {
      "cell_type": "code",
      "source": [
        "select(code, code, eq)([2,3,4])"
      ],
      "metadata": {
        "colab": {
          "base_uri": "https://localhost:8080/",
          "height": 269
        },
        "id": "L3dcsLkBM0-K",
        "outputId": "1c44021e-548d-4419-b69f-252cb7f736a7"
      },
      "execution_count": 23,
      "outputs": [
        {
          "output_type": "execute_result",
          "data": {
            "text/plain": [
              "[[True, False, False], [False, True, False], [False, False, True]]"
            ],
            "text/html": []
          },
          "metadata": {},
          "execution_count": 23
        },
        {
          "output_type": "display_data",
          "data": {
            "text/plain": [
              "<Figure size 432x288 with 1 Axes>"
            ],
            "image/png": "[encoded data removed]"
          },
          "metadata": {
            "needs_background": "light"
          }
        }
      ]
    },
    {
      "cell_type": "code",
      "source": [
        "def frac_prevs(sop, val):\n",
        "    prevs = select(indices, indices, le)\n",
        "    return aggregate(prevs, (sop == val), name=\"count\" + val)\n",
        "\n",
        "\n",
        "def pair_balance(open, close):\n",
        "    opens = frac_prevs(tokens, open)\n",
        "    closes = frac_prevs(tokens, close)\n",
        "    return opens - closes\n",
        "\n",
        "\n",
        "bal1 = pair_balance(\"(\", \")\")\n",
        "bal2 = pair_balance(\"{\", \"}\")\n",
        "\n",
        "# Check for too many closes\n",
        "negative = (bal1 < 0) | (bal2 < 0)\n",
        "had_neg = aggregate(select_all, negative, name=\"neg\") > 0\n",
        "\n",
        "# Check for match\n",
        "select_last = select(indices, length - 1, eq)\n",
        "end_0 = aggregate(select_last, (bal1 == 0) & (bal2 == 0), name=\"check\")\n",
        "\n",
        "shuffle_dyck2 = end_0 & ~(had_neg)"
      ],
      "metadata": {
        "id": "iHf94F-tOL1L"
      },
      "execution_count": 31,
      "outputs": []
    },
    {
      "cell_type": "code",
      "source": [
        "shuffle_dyck2(\"((asasd({)}))\")"
      ],
      "metadata": {
        "colab": {
          "base_uri": "https://localhost:8080/"
        },
        "id": "Ml7DQgxQOVxZ",
        "outputId": "cd04154b-2f6d-4377-821f-988ef458c8d3"
      },
      "execution_count": 27,
      "outputs": [
        {
          "output_type": "execute_result",
          "data": {
            "text/plain": [
              "[True, True, True, True, True, True, True, True, True, True, True, True, True]"
            ]
          },
          "metadata": {},
          "execution_count": 27
        }
      ]
    },
    {
      "cell_type": "code",
      "source": [
        "shuffle_dyck2(\"((asasd({)})\")"
      ],
      "metadata": {
        "colab": {
          "base_uri": "https://localhost:8080/"
        },
        "id": "FCy1OZ2JOdEq",
        "outputId": "c96c92e5-9187-4e29-90f4-cc8f4727446a"
      },
      "execution_count": 29,
      "outputs": [
        {
          "output_type": "execute_result",
          "data": {
            "text/plain": [
              "[False, False, False, False, False, False, False, False, False, False, False, False]"
            ]
          },
          "metadata": {},
          "execution_count": 29
        }
      ]
    },
    {
      "cell_type": "code",
      "source": [
        "shuffle_dyck2(\"((asasd({)})\").totree()"
      ],
      "metadata": {
        "colab": {
          "base_uri": "https://localhost:8080/"
        },
        "id": "iki39p5FOgUX",
        "outputId": "f86df4d5-a033-440d-a6ff-d1d1d73a1cac"
      },
      "execution_count": 32,
      "outputs": [
        {
          "output_type": "stream",
          "name": "stdout",
          "text": [
            "Number of layers 2\n",
            "\n",
            "Layer 2 Head: check \n",
            "\n",
            "0 0 0 0 0 0 0 0 0 0 0 0 \n",
            "0 0 0 0 0 0 0 0 0 0 0 0 \n",
            "0 0 0 0 0 0 0 0 0 0 0 0 \n",
            "0 0 0 0 0 0 0 0 0 0 0 0 \n",
            "0 0 0 0 0 0 0 0 0 0 0 0 \n",
            "0 0 0 0 0 0 0 0 0 0 0 0 \n",
            "0 0 0 0 0 0 0 0 0 0 0 0 \n",
            "0 0 0 0 0 0 0 0 0 0 0 0 \n",
            "0 0 0 0 0 0 0 0 0 0 0 0 \n",
            "0 0 0 0 0 0 0 0 0 0 0 0 \n",
            "0 0 0 0 0 0 0 0 0 0 0 0 \n",
            "1 1 1 1 1 1 1 1 1 1 1 1 \n",
            "\n",
            "Layer 2 Head: neg \n",
            "\n",
            "1 1 1 1 1 1 1 1 1 1 1 1 \n",
            "1 1 1 1 1 1 1 1 1 1 1 1 \n",
            "1 1 1 1 1 1 1 1 1 1 1 1 \n",
            "1 1 1 1 1 1 1 1 1 1 1 1 \n",
            "1 1 1 1 1 1 1 1 1 1 1 1 \n",
            "1 1 1 1 1 1 1 1 1 1 1 1 \n",
            "1 1 1 1 1 1 1 1 1 1 1 1 \n",
            "1 1 1 1 1 1 1 1 1 1 1 1 \n",
            "1 1 1 1 1 1 1 1 1 1 1 1 \n",
            "1 1 1 1 1 1 1 1 1 1 1 1 \n",
            "1 1 1 1 1 1 1 1 1 1 1 1 \n",
            "1 1 1 1 1 1 1 1 1 1 1 1 \n",
            "\n",
            "Layer 1 Head: count( \n",
            "\n",
            "1 1 1 1 1 1 1 1 1 1 1 1 \n",
            "0 1 1 1 1 1 1 1 1 1 1 1 \n",
            "0 0 1 1 1 1 1 1 1 1 1 1 \n",
            "0 0 0 1 1 1 1 1 1 1 1 1 \n",
            "0 0 0 0 1 1 1 1 1 1 1 1 \n",
            "0 0 0 0 0 1 1 1 1 1 1 1 \n",
            "0 0 0 0 0 0 1 1 1 1 1 1 \n",
            "0 0 0 0 0 0 0 1 1 1 1 1 \n",
            "0 0 0 0 0 0 0 0 1 1 1 1 \n",
            "0 0 0 0 0 0 0 0 0 1 1 1 \n",
            "0 0 0 0 0 0 0 0 0 0 1 1 \n",
            "0 0 0 0 0 0 0 0 0 0 0 1 \n",
            "\n",
            "Layer 1 Head: count) \n",
            "\n",
            "1 1 1 1 1 1 1 1 1 1 1 1 \n",
            "0 1 1 1 1 1 1 1 1 1 1 1 \n",
            "0 0 1 1 1 1 1 1 1 1 1 1 \n",
            "0 0 0 1 1 1 1 1 1 1 1 1 \n",
            "0 0 0 0 1 1 1 1 1 1 1 1 \n",
            "0 0 0 0 0 1 1 1 1 1 1 1 \n",
            "0 0 0 0 0 0 1 1 1 1 1 1 \n",
            "0 0 0 0 0 0 0 1 1 1 1 1 \n",
            "0 0 0 0 0 0 0 0 1 1 1 1 \n",
            "0 0 0 0 0 0 0 0 0 1 1 1 \n",
            "0 0 0 0 0 0 0 0 0 0 1 1 \n",
            "0 0 0 0 0 0 0 0 0 0 0 1 \n",
            "\n",
            "Layer 1 Head: count{ \n",
            "\n",
            "1 1 1 1 1 1 1 1 1 1 1 1 \n",
            "0 1 1 1 1 1 1 1 1 1 1 1 \n",
            "0 0 1 1 1 1 1 1 1 1 1 1 \n",
            "0 0 0 1 1 1 1 1 1 1 1 1 \n",
            "0 0 0 0 1 1 1 1 1 1 1 1 \n",
            "0 0 0 0 0 1 1 1 1 1 1 1 \n",
            "0 0 0 0 0 0 1 1 1 1 1 1 \n",
            "0 0 0 0 0 0 0 1 1 1 1 1 \n",
            "0 0 0 0 0 0 0 0 1 1 1 1 \n",
            "0 0 0 0 0 0 0 0 0 1 1 1 \n",
            "0 0 0 0 0 0 0 0 0 0 1 1 \n",
            "0 0 0 0 0 0 0 0 0 0 0 1 \n",
            "\n",
            "Layer 1 Head: count} \n",
            "\n",
            "1 1 1 1 1 1 1 1 1 1 1 1 \n",
            "0 1 1 1 1 1 1 1 1 1 1 1 \n",
            "0 0 1 1 1 1 1 1 1 1 1 1 \n",
            "0 0 0 1 1 1 1 1 1 1 1 1 \n",
            "0 0 0 0 1 1 1 1 1 1 1 1 \n",
            "0 0 0 0 0 1 1 1 1 1 1 1 \n",
            "0 0 0 0 0 0 1 1 1 1 1 1 \n",
            "0 0 0 0 0 0 0 1 1 1 1 1 \n",
            "0 0 0 0 0 0 0 0 1 1 1 1 \n",
            "0 0 0 0 0 0 0 0 0 1 1 1 \n",
            "0 0 0 0 0 0 0 0 0 0 1 1 \n",
            "0 0 0 0 0 0 0 0 0 0 0 1 \n"
          ]
        }
      ]
    }
  ]
}