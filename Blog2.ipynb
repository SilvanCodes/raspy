{
 "cells": [
  {
   "cell_type": "code",
   "execution_count": null,
   "id": "b583685d",
   "metadata": {
    "tags": [
     "hide_inp"
    ]
   },
   "outputs": [],
   "source": [
    "!pip install -qqq git+https://github.com/chalk-diagrams/chalk git+https://github.com/srush/RASPy "
   ]
  },
  {
   "cell_type": "code",
   "execution_count": null,
   "id": "9d55e240",
   "metadata": {
    "tags": [
     "hide_inp"
    ]
   },
   "outputs": [],
   "source": [
    "from raspy import *\n",
    "from raspy.rasp import Seq, Sel, SOp, Key, Query\n",
    "from raspy.visualize import draw_all, draw, draw_sel\n",
    "from chalk import *\n",
    "from colour import Color\n",
    "from raspy.visualize import word\n",
    "\n",
    "def draw(c_inp=Color(\"white\"), c_att=Color(\"white\"), c_back=Color(\"white\"), c_ffn=Color(\"white\")):\n",
    "\n",
    "    d =  box(\"Input\", c_inp).named(\"inp\") / vstrut(1) / (rectangle(3, 4).fill_color(c_back).named(\"main\") +  ( box(\"Feed Forward\", c_ffn).named(\"ffn\") / vstrut(1) / box(\"Attention\", c_att).named(\"att\")).center_xy()) / vstrut(1) / box(\"Final\").named(\"final\")\n",
    "    return d.connect_outside(\"inp\", \"main\").connect_outside(\"ffn\", \"att\").connect_outside(\"main\", \"final\")\n",
    "\n",
    "def draw_att():\n",
    "    d = rectangle(2.5, 2.5)\n",
    "    d = d.beside(box2(\"key\", green).rotate_by(0.25).named(\"key\"), -unit_x)\n",
    "    d = d.beside(box2(\"query\", orange).named(\"query\"), -unit_y)\n",
    "    d = d.beside(box2(\"value\", red).rotate_by(-0.25).named(\"value\"), unit_x)\n",
    "    d = d.beside(box2(\"output\").named(\"output\"), unit_y)\n",
    "    d = d + rectangle(0.4,0.4).fill_color(black).named(\"mid\").translate(0, -0.5)\n",
    "    d = d + rectangle(0.4,0.4).fill_color(black).named(\"mid2\").translate(0, 0.5)\n",
    "    d = d.connect_perim(\"key\", \"mid\", unit_x, -unit_x).connect_outside(\"query\", \"mid\").connect_outside(\"mid\", \"mid2\").connect_perim(\"value\", \"mid2\", -unit_x, unit_x).connect_outside(\"mid2\", \"output\")\n",
    "    return d\n",
    "\n",
    "\n"
   ]
  },
  {
   "cell_type": "markdown",
   "id": "fb90337f",
   "metadata": {},
   "source": [
    "# Thinking Like Transformers"
   ]
  },
  {
   "cell_type": "markdown",
   "id": "a660fa79",
   "metadata": {},
   "source": [
    "- [Paper](https://arxiv.org/pdf/2106.06981.pdf) by Gail Weiss, Yoav Goldberg, Eran Yahav\n",
    "- Blog by Sasha Rush and Gail Weiss"
   ]
  },
  {
   "cell_type": "markdown",
   "id": "8dbe98b3",
   "metadata": {},
   "source": [
    "Transformer models are foundational to AI systems. There are now countless explanations of \"how transformers work?\" in the sense of the architecture diagram at the heart of transformers."
   ]
  },
  {
   "cell_type": "code",
   "execution_count": null,
   "id": "88e6a70b",
   "metadata": {
    "tags": [
     "hide_inp"
    ]
   },
   "outputs": [],
   "source": [
    "draw(c_att=Color(\"lightgray\")).center_xy() | hstrut(2) | draw_att().center_xy()"
   ]
  },
  {
   "cell_type": "markdown",
   "id": "3e42084f",
   "metadata": {},
   "source": [
    "However this diagram does not provide any intuition into the computational model of this framework. As researchers become interested in how Transformers work, gaining intuition into their mechanisms becomes increasingly useful."
   ]
  },
  {
   "cell_type": "markdown",
   "id": "dc68a42c",
   "metadata": {},
   "source": [
    "[Thinking like Transformers](https://arxiv.org/pdf/2106.06981.pdf) proposes a computional framework for  Transformer-like calculations. The framework uses discrete computation to simulate Transformer computations.  The resulting language [RASP](https://github.com/tech-srl/RASP) is a programming language where every program compiles down to a specific Transformer."
   ]
  },
  {
   "cell_type": "markdown",
   "id": "1c43bdf0",
   "metadata": {},
   "source": [
    "In this blog post, I reimplemented a variant of RASP in Python ([RASPy](https://github.com/srush/raspy)). The language is roughly compatible with the original version, but with some syntactic changes that I thought were fun. With this language, the author of the work Gail Weiss, provided a challenging set of puzzles to walk through and understand how it works. "
   ]
  },
  {
   "cell_type": "code",
   "execution_count": null,
   "id": "8f46c39d",
   "metadata": {},
   "outputs": [],
   "source": [
    "#!pip install git+https://github.com/srush/RASPy"
   ]
  },
  {
   "cell_type": "markdown",
   "id": "e2e6522b",
   "metadata": {},
   "source": [
    "Before jumping into the language itself, let's look at an example of what coding with Transformers looks like. Here is some code that computes the `flip`, i.e. reversing an input sequence. The code itself uses two Transformer layers to apply attention and mathematical computations to achieve the result."
   ]
  },
  {
   "cell_type": "code",
   "execution_count": null,
   "id": "88962996",
   "metadata": {},
   "outputs": [],
   "source": [
    "def flip():\n",
    "    length = (key(1) == query(1)).value(1)\n",
    "    flip = (key(length - indices - 1) == query(indices)).value(tokens)\n",
    "    return flip\n",
    "flip()"
   ]
  },
  {
   "cell_type": "markdown",
   "id": "56680fb0",
   "metadata": {},
   "source": [
    "<h2 id=\"table-of-contents\">Table of Contents</h2>\n",
    "<ul>\n",
    "<li>Part 1: <a href=\"#transformers-as-code\">Transfomers as Code</a></li>\n",
    "<li>Part 2: <a href=\"#coding-with-transformers\">Coding with Transformers</a></li>\n",
    "</ul>\n"
   ]
  },
  {
   "cell_type": "markdown",
   "id": "4257f920",
   "metadata": {},
   "source": [
    "## Transformers as Code\n",
    "\n",
    "Our goal is to define a computational formalism that mimics the expressivity of Transformers. We will go through this process by analogy, describing each language construct next to the aspect of the Transformer it represents. (See the full [paper](https://arxiv.org/pdf/2106.06981.pdf) for the formal language specification).\n",
    "\n",
    "The core unit of the language is a *sequence operation* that transforms a sequence to another sequence of the same length. I will refer to these throughout as *transforms*."
   ]
  },
  {
   "cell_type": "markdown",
   "id": "1b839e0a",
   "metadata": {},
   "source": [
    "### Inputs\n",
    "\n",
    "In a Transformer, the base laye is the input fed to the model. This input usually contains the raw tokens as well as positional information.  "
   ]
  },
  {
   "cell_type": "code",
   "execution_count": null,
   "id": "630d9684",
   "metadata": {
    "tags": [
     "hide_inp"
    ]
   },
   "outputs": [],
   "source": [
    "draw(orange)"
   ]
  },
  {
   "cell_type": "markdown",
   "id": "d54f747c",
   "metadata": {},
   "source": [
    "In code, the symbol `tokens` represents the simplest transform. It returns the tokens passed to the model. The default input is the sequence \"hello\". "
   ]
  },
  {
   "cell_type": "code",
   "execution_count": null,
   "id": "92d00c8f",
   "metadata": {},
   "outputs": [],
   "source": [
    "tokens"
   ]
  },
  {
   "cell_type": "markdown",
   "id": "45f97b6c",
   "metadata": {},
   "source": [
    "If we want to change the input to the transform, we use the input method to pass in an alternative. "
   ]
  },
  {
   "cell_type": "code",
   "execution_count": null,
   "id": "0adadeeb",
   "metadata": {},
   "outputs": [],
   "source": [
    "tokens.input([5, 2, 4, 5, 2, 2])"
   ]
  },
  {
   "cell_type": "markdown",
   "id": "c16f6ff5",
   "metadata": {},
   "source": [
    "As with Transformers, we cannot access the positions of these sequences directly. However, to mimic position embeddings, we have access to a sequence of indices."
   ]
  },
  {
   "cell_type": "code",
   "execution_count": null,
   "id": "e643ef94",
   "metadata": {},
   "outputs": [],
   "source": [
    "indices"
   ]
  },
  {
   "cell_type": "code",
   "execution_count": null,
   "id": "e9e0dd9f",
   "metadata": {},
   "outputs": [],
   "source": [
    "sop = indices\n",
    "sop.input(\"goodbye\")"
   ]
  },
  {
   "cell_type": "markdown",
   "id": "6c4b5699",
   "metadata": {},
   "source": [
    "### Feed Forward Network\n",
    "\n",
    "After the input layer, we reach the feed-forward network. In a Transfomer, this stage can apply mathematical operations to each element of the sequence independently. "
   ]
  },
  {
   "cell_type": "code",
   "execution_count": null,
   "id": "ea7dfd64",
   "metadata": {
    "tags": [
     "hide_inp"
    ]
   },
   "outputs": [],
   "source": [
    "right = ( hcat([box(\"x\" + str(i)).named(\"x\"+str(i)) for i in range(4)],0.5) / vstrut(1) / hcat([box(\"x\" + str(i) + \"'\").named(\"x'\"+str(i)) for i in range(4)],0.5)) \n",
    "right = rectangle(14, 4, 0.5).fill_color(orange) + right.center_xy()\n",
    "d = draw(c_ffn=orange).center_xy() | hstrut(1.5) | right.center_xy()\n",
    "for i in range(4):\n",
    "    d = d.connect_outside(\"x\" + str(i), \"x'\"+str(i))\n",
    "d"
   ]
  },
  {
   "cell_type": "markdown",
   "id": "78224b69",
   "metadata": {},
   "source": [
    "In code, we represent this stage by computation on transforms. Mathematical operations are overloaded to represent independent computation on each element of the sequence ."
   ]
  },
  {
   "cell_type": "code",
   "execution_count": null,
   "id": "7b3c3f2a",
   "metadata": {},
   "outputs": [],
   "source": [
    "tokens == \"l\""
   ]
  },
  {
   "cell_type": "markdown",
   "id": "5eaba2ad",
   "metadata": {},
   "source": [
    "The result is a new transform. Once constructed it can be applied to new input."
   ]
  },
  {
   "cell_type": "code",
   "execution_count": null,
   "id": "c2bcb2eb",
   "metadata": {},
   "outputs": [],
   "source": [
    "model = tokens * 2  - 1\n",
    "model.input([1, 2, 3, 5, 2])"
   ]
  },
  {
   "cell_type": "markdown",
   "id": "bfca6187",
   "metadata": {},
   "source": [
    "Operations can combine multiple transforms. For example, functions of `tokens` and `indices`. The analogy here is that the Transformer activations can keep track of multiple pieces of information simultaneously."
   ]
  },
  {
   "cell_type": "code",
   "execution_count": null,
   "id": "6b7b6c21",
   "metadata": {},
   "outputs": [],
   "source": [
    "model = tokens - 5 + indices\n",
    "model.input([1, 2, 3, 5, 2])"
   ]
  },
  {
   "cell_type": "code",
   "execution_count": null,
   "id": "defd6cab",
   "metadata": {},
   "outputs": [],
   "source": [
    "(tokens == \"l\") | (indices == 1)"
   ]
  },
  {
   "cell_type": "markdown",
   "id": "86b56cbe",
   "metadata": {},
   "source": [
    "We provide a few helper functions to make it easier to write transforms. For example, `where` provides an \"if\" statement like construct"
   ]
  },
  {
   "cell_type": "code",
   "execution_count": null,
   "id": "58429c5d",
   "metadata": {},
   "outputs": [],
   "source": [
    "where((tokens == \"h\") | (tokens == \"l\"), tokens, \"q\")"
   ]
  },
  {
   "cell_type": "markdown",
   "id": "369b6508",
   "metadata": {},
   "source": [
    "And `map` lets us define our own operators, for instanc a string to int transform"
   ]
  },
  {
   "cell_type": "code",
   "execution_count": null,
   "id": "e9fcf59f",
   "metadata": {},
   "outputs": [],
   "source": [
    "atoi = tokens.map(lambda x: ord(x) - ord('0'))\n",
    "atoi.input(\"31234\")"
   ]
  },
  {
   "cell_type": "markdown",
   "id": "e6e82ae2",
   "metadata": {},
   "source": [
    "When chaining these transforms, it is often easier to write as functions. For example the following applies where and then `atoi` and then adds 2. "
   ]
  },
  {
   "cell_type": "code",
   "execution_count": null,
   "id": "4128ad20",
   "metadata": {},
   "outputs": [],
   "source": [
    "def atoi(seq=tokens):\n",
    "    return seq.map(lambda x: ord(x) - ord('0')) \n",
    "\n",
    "op = (atoi(where(tokens == \"-\", \"0\", tokens)) + 2)\n",
    "op.input(\"02-13\")"
   ]
  },
  {
   "cell_type": "markdown",
   "id": "e143cb92",
   "metadata": {},
   "source": [
    "###  Attention Selectors\n",
    "\n",
    "Things get more interesting when we start to apply attention. This allows routing of information between the different elements of the sequence. "
   ]
  },
  {
   "cell_type": "code",
   "execution_count": null,
   "id": "d35782c0",
   "metadata": {
    "tags": [
     "hide_inp"
    ]
   },
   "outputs": [],
   "source": [
    "draw(c_att=orange).center_xy() | hstrut(2) | draw_att().center_xy()"
   ]
  },
  {
   "cell_type": "markdown",
   "id": "b99aa4cd",
   "metadata": {},
   "source": [
    "We begin by defining notation for the keys and queries of the model. Keys and Queries can be created directly from the transfoms defined above. For example if we want to define a key we call `key`."
   ]
  },
  {
   "cell_type": "code",
   "execution_count": null,
   "id": "69f354e1",
   "metadata": {},
   "outputs": [],
   "source": [
    "key(tokens)"
   ]
  },
  {
   "cell_type": "markdown",
   "id": "ab2a67a0",
   "metadata": {},
   "source": [
    "Similarly for `query`."
   ]
  },
  {
   "cell_type": "code",
   "execution_count": null,
   "id": "d9efc712",
   "metadata": {},
   "outputs": [],
   "source": [
    "query(tokens)"
   ]
  },
  {
   "cell_type": "markdown",
   "id": "538636e2",
   "metadata": {},
   "source": [
    "Scalars can be used as keys or queries. They broadcast out to the length of the underlying sequence."
   ]
  },
  {
   "cell_type": "code",
   "execution_count": null,
   "id": "c85e5e6a",
   "metadata": {},
   "outputs": [],
   "source": [
    "query(1)"
   ]
  },
  {
   "cell_type": "markdown",
   "id": "0eb5b2b6",
   "metadata": {},
   "source": [
    "By applying an operation between a keys and queries we create a *selector*. This corresponds to a binary matrix indicating which keys each query is attending to. Unlike in Transformers, this attention matrix is unweighted."
   ]
  },
  {
   "cell_type": "code",
   "execution_count": null,
   "id": "faf4c242",
   "metadata": {},
   "outputs": [],
   "source": [
    "eq = (key(tokens) == query(tokens))\n",
    "eq"
   ]
  },
  {
   "cell_type": "markdown",
   "id": "fe6fb4e7",
   "metadata": {},
   "source": [
    "Some examples: \n",
    "\n",
    "* A selector the matches positions offet by 1."
   ]
  },
  {
   "cell_type": "code",
   "execution_count": null,
   "id": "2f219626",
   "metadata": {},
   "outputs": [],
   "source": [
    "offset = (key(indices) == query(indices - 1))\n",
    "offset"
   ]
  },
  {
   "cell_type": "markdown",
   "id": "21d491b6",
   "metadata": {},
   "source": [
    "* A selector that matches to keys earlier in time. "
   ]
  },
  {
   "cell_type": "code",
   "execution_count": null,
   "id": "69a2863f",
   "metadata": {},
   "outputs": [],
   "source": [
    "before = key(indices) < query(indices)\n",
    "before"
   ]
  },
  {
   "cell_type": "markdown",
   "id": "5dc9483d",
   "metadata": {},
   "source": [
    "* A selector that match to keys later in time."
   ]
  },
  {
   "cell_type": "code",
   "execution_count": null,
   "id": "3ffdcf86",
   "metadata": {},
   "outputs": [],
   "source": [
    "after = key(indices) > query(indices)\n",
    "after"
   ]
  },
  {
   "cell_type": "markdown",
   "id": "42416bb8",
   "metadata": {},
   "source": [
    "Selectors can be merged with boolean operations. For example, this selector attends only to tokens before it in time with the same value. We show this by including both pairs of keys and values in the matrix."
   ]
  },
  {
   "cell_type": "code",
   "execution_count": null,
   "id": "b7d8a1dc",
   "metadata": {},
   "outputs": [],
   "source": [
    "before & eq"
   ]
  },
  {
   "cell_type": "markdown",
   "id": "c6102b5a",
   "metadata": {},
   "source": [
    "## Using Attention "
   ]
  },
  {
   "cell_type": "markdown",
   "id": "4d476638",
   "metadata": {},
   "source": [
    "Given an attention selector we can provide a value sequence to aggregate. We represent aggregation by **summing** up over the values that have a true value for their selector. \n",
    "\n",
    "(Note: in the original paper, they use a mean aggregation and show a clever construction where mean aggregation is able to represent a sum calculation. RASPy uses sum by default for simplicity and to avoid fractions.)"
   ]
  },
  {
   "cell_type": "markdown",
   "id": "9289a225",
   "metadata": {},
   "source": [
    "Attention aggregation gives us the ability to compute functions like histograms. "
   ]
  },
  {
   "cell_type": "code",
   "execution_count": null,
   "id": "9148e2b0",
   "metadata": {},
   "outputs": [],
   "source": [
    "(key(tokens) == query(tokens)).value(1)"
   ]
  },
  {
   "cell_type": "markdown",
   "id": "800e5801",
   "metadata": {},
   "source": [
    "Visually we follow the architecutre diagram. Keys are to the left, Queries at the top, Values at the right, and the Output is below."
   ]
  },
  {
   "cell_type": "code",
   "execution_count": null,
   "id": "ed03f8c6",
   "metadata": {
    "tags": [
     "hide_inp"
    ]
   },
   "outputs": [],
   "source": [
    "draw_att().center_xy()"
   ]
  },
  {
   "cell_type": "markdown",
   "id": "a2768852",
   "metadata": {},
   "source": [
    "Some attention operations may not even use the input tokens. For instance to compute the `length` of a sequence, we create a \"select all\" attention selector and then adding the values."
   ]
  },
  {
   "cell_type": "code",
   "execution_count": null,
   "id": "9e712ff4",
   "metadata": {},
   "outputs": [],
   "source": [
    "length = (key(1) == query(1)).value(1)\n",
    "length = length.name(\"length\")\n",
    "length"
   ]
  },
  {
   "cell_type": "markdown",
   "id": "4401fdbd",
   "metadata": {},
   "source": [
    "Here's a more complex example, shown step-by-step. (This is the kind of thing they ask in interviews!)\n",
    "\n",
    "Say we want to compute the sum of neighboring values in a sequence. First we apply the forward cutoff. "
   ]
  },
  {
   "cell_type": "code",
   "execution_count": null,
   "id": "95be2604",
   "metadata": {},
   "outputs": [],
   "source": [
    "WINDOW=3\n",
    "s1 = (key(indices) >= query(indices - WINDOW + 1))  \n",
    "s1"
   ]
  },
  {
   "cell_type": "markdown",
   "id": "07e83eca",
   "metadata": {},
   "source": [
    "Then the backward cutoff. "
   ]
  },
  {
   "cell_type": "code",
   "execution_count": null,
   "id": "5674869e",
   "metadata": {},
   "outputs": [],
   "source": [
    "s2 = (key(indices) <= query(indices))\n",
    "s2"
   ]
  },
  {
   "cell_type": "markdown",
   "id": "668eb036",
   "metadata": {},
   "source": [
    "Intersect."
   ]
  },
  {
   "cell_type": "code",
   "execution_count": null,
   "id": "c4c340d9",
   "metadata": {},
   "outputs": [],
   "source": [
    "sel = s1 & s2\n",
    "sel"
   ]
  },
  {
   "cell_type": "markdown",
   "id": "8a94f9b4",
   "metadata": {},
   "source": [
    "And finally aggregate."
   ]
  },
  {
   "cell_type": "code",
   "execution_count": null,
   "id": "707f2063",
   "metadata": {},
   "outputs": [],
   "source": [
    "sum2 = sel.value(tokens) \n",
    "sum2.input([1,3,2,2,2])"
   ]
  },
  {
   "cell_type": "markdown",
   "id": "5d51be18",
   "metadata": {},
   "source": [
    "Here's a similar example with a cumulative sum. We introduce here the ability to `name` a transform which helps with debugging."
   ]
  },
  {
   "cell_type": "code",
   "execution_count": null,
   "id": "a114fd4f",
   "metadata": {},
   "outputs": [],
   "source": [
    "def cumsum(seq=tokens):\n",
    "    x = (before | (key(indices) == query(indices))).value(seq)\n",
    "    return x.name(\"cumsum\")\n",
    "cumsum().input([3, 1, -2, 3, 1])"
   ]
  },
  {
   "cell_type": "markdown",
   "id": "325afacc",
   "metadata": {},
   "source": [
    "## Layers "
   ]
  },
  {
   "cell_type": "markdown",
   "id": "8244e036",
   "metadata": {},
   "source": [
    "The language supports building up more complex transforms. It keeps track of the *layers* by tracking the operations computed so far. "
   ]
  },
  {
   "cell_type": "code",
   "execution_count": null,
   "id": "3f1a0c56",
   "metadata": {
    "tags": [
     "hide_inp"
    ]
   },
   "outputs": [],
   "source": [
    "draw(c_back=orange)"
   ]
  },
  {
   "cell_type": "markdown",
   "id": "a8019946",
   "metadata": {},
   "source": [
    "Here is a simple example that produces a 2-layer transform. The first corresponds to computing length and the second the cumulative sum."
   ]
  },
  {
   "cell_type": "code",
   "execution_count": null,
   "id": "1842a829",
   "metadata": {},
   "outputs": [],
   "source": [
    "x = cumsum(length - indices)\n",
    "x.input([3, 2, 3, 5])"
   ]
  },
  {
   "cell_type": "markdown",
   "id": "5b740aad",
   "metadata": {},
   "source": [
    "## Coding with Transformers"
   ]
  },
  {
   "cell_type": "markdown",
   "id": "a9ee0738",
   "metadata": {},
   "source": [
    "Given this library of functions, we can write operations to accomplish surprisingly complex tasks. \n",
    "\n",
    "Gail Weiss, the author of the paper, gave me a really challenging problem broken up into steps. \n",
    "\n",
    "**Can we produce a Transformer that does basic addition?**\n",
    "\n",
    "i.e. given a string \"19492+23919\" can we produce the correct output? "
   ]
  },
  {
   "cell_type": "markdown",
   "id": "ac8b66ce",
   "metadata": {},
   "source": [
    "If you would rather do these on your own, we provide [a version]() with this part of the notebook blank out.  "
   ]
  },
  {
   "cell_type": "markdown",
   "id": "5a1a0f3c",
   "metadata": {},
   "source": [
    "### Challenge 1: Select a given index\n",
    "\n",
    "Produce a sequence where all the elements have the value at index i."
   ]
  },
  {
   "cell_type": "code",
   "execution_count": null,
   "id": "3ecca121",
   "metadata": {},
   "outputs": [],
   "source": [
    "def index(i, seq=tokens):\n",
    "    return seq.name(\"index\")\n",
    "index(1)"
   ]
  },
  {
   "cell_type": "markdown",
   "id": "fc6b5313",
   "metadata": {},
   "source": [
    "### Challenge 2: Shift\n",
    "\n",
    "Shift all of the tokens in a sequence to the right by `i` positions."
   ]
  },
  {
   "cell_type": "code",
   "execution_count": null,
   "id": "30287fb5",
   "metadata": {},
   "outputs": [],
   "source": [
    "def shift(i=1, default=\"_\", seq=tokens):\n",
    "    return seq.name(\"shift\")\n",
    "shift(2)"
   ]
  },
  {
   "cell_type": "markdown",
   "id": "90fa73f4",
   "metadata": {},
   "source": [
    "### Challenge 3: Minimum \n",
    "\n",
    "Compute the minimum values of the sequence. (This one starts to get harder. Our version uses 2 layers of attention.)"
   ]
  },
  {
   "cell_type": "code",
   "execution_count": null,
   "id": "5aa53fca",
   "metadata": {},
   "outputs": [],
   "source": [
    "def minimum(seq=tokens):\n",
    "    return seq.name(\"min\")\n",
    "minimum()([5,3,2,5,2])"
   ]
  },
  {
   "cell_type": "markdown",
   "id": "78b6f072",
   "metadata": {},
   "source": [
    "### Challenge 4: First Index\n",
    "\n",
    "Compute the first index that has token `q`. (2 layers)"
   ]
  },
  {
   "cell_type": "code",
   "execution_count": null,
   "id": "8c12b43e",
   "metadata": {},
   "outputs": [],
   "source": [
    "def first(q, seq=tokens):\n",
    "    return seq\n",
    "first(\"l\")"
   ]
  },
  {
   "cell_type": "markdown",
   "id": "070f6eb0",
   "metadata": {},
   "source": [
    "### Challenge 5: Right Align\n",
    "\n",
    "Right align a padded sequence e.g. ralign().inputs('xyz___') = '---xyz'\" (3 layers)"
   ]
  },
  {
   "cell_type": "code",
   "execution_count": null,
   "id": "1d5f656f",
   "metadata": {},
   "outputs": [],
   "source": [
    "def ralign(default=\"-\", sop=tokens):\n",
    "    return sop.name(\"ralign\")\n",
    "ralign()(\"xyz__\")"
   ]
  },
  {
   "cell_type": "markdown",
   "id": "fc98b274",
   "metadata": {},
   "source": [
    "### Challenge 6: Split\n",
    "\n",
    "Split a sequence into two parts. (5 layers)"
   ]
  },
  {
   "cell_type": "code",
   "execution_count": null,
   "id": "86048cd3",
   "metadata": {},
   "outputs": [],
   "source": [
    "def split(v, i, sop=tokens):\n",
    "    return sop\n",
    "split(\"+\", 1)(\"xyz+zyr\")"
   ]
  },
  {
   "cell_type": "code",
   "execution_count": null,
   "id": "2db87d97",
   "metadata": {},
   "outputs": [],
   "source": [
    "split(\"+\", 0)(\"xyz+zyr\")"
   ]
  },
  {
   "cell_type": "markdown",
   "id": "e9bd8dbd",
   "metadata": {},
   "source": [
    "### Challenge 6: Slide\n",
    "\n",
    "Replace special tokens \"<\" with the closest non \"<\" value to their right. (2 layers)"
   ]
  },
  {
   "cell_type": "code",
   "execution_count": null,
   "id": "4ca6faae",
   "metadata": {},
   "outputs": [],
   "source": [
    "def slide(match, seq=tokens):\n",
    "    return seq.name(\"slide\")\n",
    "slide(tokens != \"<\").input(\"xxxh<<<l\")"
   ]
  },
  {
   "cell_type": "markdown",
   "id": "9871dde2",
   "metadata": {},
   "source": [
    "### Challenge 7: Add\n",
    "\n",
    "For this one you want to perform addition of two numbers. Here are the steps. \n",
    "\n",
    "add().input(\"683+345\")\n",
    "\n",
    "0) Split into parts. Convert to ints. Add\n",
    "\n",
    "> \"683+345\" => [0, 0, 0, 9, 12, 8]\n",
    "\n",
    "1) Compute the carry terms. Three possibilities: 1 has carry, 0 no carry, < maybe has carry. \n",
    "\n",
    "> [0, 0, 0, 9, 12, 8] => \"00<100\"\n",
    "\n",
    "2) Slide the carry coefficients\n",
    "\n",
    "> \"00<100\" => 001100\"\n",
    "\n",
    "3) Complete the addition.\n",
    "\n",
    "Each of these is 1 line of code. The full system is 8 attentions.\n",
    "\n"
   ]
  },
  {
   "cell_type": "code",
   "execution_count": null,
   "id": "b26e3a23",
   "metadata": {
    "lines_to_next_cell": 1
   },
   "outputs": [],
   "source": [
    "def add(sop=tokens):\n",
    "    # 0) Parse and add\n",
    "\n",
    "    # 1) Check for carries \n",
    "\n",
    "    # 2) In parallel, slide carries to their column                                         \n",
    "\n",
    "    # 3) Add in carries.\n",
    "    pass"
   ]
  },
  {
   "cell_type": "code",
   "execution_count": null,
   "id": "73efb3c9",
   "metadata": {},
   "outputs": [],
   "source": [
    "add()(\"683+345\")"
   ]
  },
  {
   "cell_type": "code",
   "execution_count": null,
   "id": "5e9a8218",
   "metadata": {},
   "outputs": [],
   "source": [
    "683 + 345"
   ]
  }
 ],
 "metadata": {
  "kernelspec": {
   "display_name": "Python 3 (ipykernel)",
   "language": "python",
   "name": "python3"
  }
 },
 "nbformat": 4,
 "nbformat_minor": 5
}
